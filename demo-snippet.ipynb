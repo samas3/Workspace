{
 "cells": [
  {
   "cell_type": "markdown",
   "id": "27d0d14f",
   "metadata": {},
   "source": [
    "# 🧠 欢迎来到未来科技营\n",
    "\n",
    "请确保你的设备已正确连接所有部件，并准备好体验互动吧！🚀"
   ]
  },
  {
   "cell_type": "markdown",
   "id": "171286f0-b34e-44ac-a0cd-0d8013e183bd",
   "metadata": {},
   "source": [
    "## 初始化"
   ]
  },
  {
   "cell_type": "code",
   "execution_count": null,
   "id": "63e42115-30a5-490f-a928-6dd536c67a69",
   "metadata": {},
   "outputs": [],
   "source": [
    "# 📦 导入库\n",
    "import os\n",
    "import time\n",
    "import alsaaudio\n",
    "import sounddevice as sd\n",
    "import simpleaudio as sa\n",
    "\n",
    "from time import sleep\n",
    "\n",
    "# 配置音频\n",
    "# 设置 ALSA_CARD 为第一个 USB 输出设备的索引（如存在）\n",
    "# 查找包含 'usb' 的音频输出设备\n",
    "dev = next((d for d in sd.query_devices() if d['max_output_channels'] > 0 and 'usb' in d['name'].lower()), None)\n",
    "# 设置 ALSA_CARD 环境变量以使用 USB 设备\n",
    "if dev: os.environ['ALSA_CARD'] = str(dev['index'])"
   ]
  },
  {
   "cell_type": "markdown",
   "id": "9c9da2be-d4b2-4e5f-be29-3c15f69bdcba",
   "metadata": {},
   "source": [
    "## 反馈系统"
   ]
  },
  {
   "cell_type": "markdown",
   "id": "212925b9-f688-4283-9013-01000c105a83",
   "metadata": {},
   "source": [
    "### 反馈系统 - 大灯"
   ]
  },
  {
   "cell_type": "code",
   "execution_count": 2,
   "id": "719815f7-a222-4f4e-943b-5b926602ae9b",
   "metadata": {},
   "outputs": [],
   "source": [
    "# 初始化 IO，仅能执行一次\n",
    "from gpiozero import LED\n",
    "led = LED(24)"
   ]
  },
  {
   "cell_type": "code",
   "execution_count": 9,
   "id": "335eaa3a-a33f-46f9-b64d-33b21f8ad978",
   "metadata": {},
   "outputs": [],
   "source": [
    "# 开灯一秒，然后关灯\n",
    "led.on()\n",
    "sleep(1)\n",
    "led.off()"
   ]
  },
  {
   "cell_type": "markdown",
   "id": "f6655dda-bdba-4413-a3ba-8564107a6e88",
   "metadata": {},
   "source": [
    "### 反馈系统 - 声音"
   ]
  },
  {
   "cell_type": "code",
   "execution_count": 5,
   "id": "e0aaa0ce-97b6-448a-be0b-b4b54514e27b",
   "metadata": {},
   "outputs": [],
   "source": [
    "# 设置音量，建议每次播放前都调整音量\n",
    "m = alsaaudio.Mixer('PCM')\n",
    "# 设置音量为 60%\n",
    "m.setvolume(60)\n",
    "\n",
    "# 播放测试音频\n",
    "# 加载并播放音频文件\n",
    "wave_obj = sa.WaveObject.from_wave_file(\"media/test.wav\")\n",
    "play_obj = wave_obj.play()\n",
    "play_obj.wait_done()"
   ]
  },
  {
   "cell_type": "markdown",
   "id": "fffd1a7a-d54f-4829-ad32-df264146c94b",
   "metadata": {},
   "source": [
    "### 反馈系统 - 转动"
   ]
  },
  {
   "cell_type": "code",
   "execution_count": 8,
   "id": "835eeae5-8b46-4022-9366-78f3b49cb086",
   "metadata": {},
   "outputs": [],
   "source": [
    "# 初始化代码，仅需执行一次\n",
    "\n",
    "# 📦 导入库\n",
    "from lib.DFRobot_RaspberryPi_DC_Motor import DFRobot_DC_Motor_IIC as Board\n",
    "board = Board(1, 0x10)    # RaspberryPi select bus 1, set address to 0x10"
   ]
  },
  {
   "cell_type": "code",
   "execution_count": 13,
   "id": "fefe08d0-d6bc-41c7-928f-9c8d3d92718d",
   "metadata": {},
   "outputs": [
    {
     "name": "stdout",
     "output_type": "stream",
     "text": [
      "board begin success\n",
      "duty: 0, M1 encoder speed: 0 rpm, M2 encoder speed 0 rpm\n",
      "duty: 20, M1 encoder speed: 19 rpm, M2 encoder speed -14 rpm\n",
      "duty: 40, M1 encoder speed: 58 rpm, M2 encoder speed -33 rpm\n",
      "duty: 60, M1 encoder speed: 100 rpm, M2 encoder speed -67 rpm\n",
      "duty: 80, M1 encoder speed: 158 rpm, M2 encoder speed -149 rpm\n"
     ]
    }
   ],
   "source": [
    "if board.begin() != board.STA_OK:    # 初始化开发板并检查状态是否正常\n",
    "    print(\"board begin faild\")       # 如果初始化失败，打印失败信息\n",
    "else:\n",
    "    print(\"board begin success\")     # 初始化成功，打印成功信息\n",
    "\n",
    "    board.set_encoder_enable(board.ALL)                 # 启用所有电机的编码器\n",
    "    # board.set_encoder_disable(board.ALL)              # （可选）禁用所有电机的编码器\n",
    "    board.set_encoder_reduction_ratio(board.ALL, 43)    # 设置所有电机的编码器减速比（测试电机减速比为43.8）\n",
    "\n",
    "    board.set_moter_pwm_frequency(1000)   # 设置电机的PWM频率为1000Hz\n",
    "\n",
    "    for duty in range(0, 100, 20):   # 从低占空比到高，占空比每次增加10\n",
    "        board.motor_movement([board.M1], board.CW, duty)    # 电机1正转（顺时针），设置占空比\n",
    "        board.motor_movement([board.M2], board.CCW, duty)   # 电机2反转（逆时针），设置占空比\n",
    "        time.sleep(0.5)                                       # 等待1秒\n",
    "        speed = board.get_encoder_speed(board.ALL)         # 获取所有编码器的转速\n",
    "        print(\"duty: %d, M1 encoder speed: %d rpm, M2 encoder speed %d rpm\" % (duty, speed[0], speed[1]))  # 打印转速信息\n",
    "\n",
    "    #for duty in range(100, 0, -20):   # 从高占空比到低，占空比每次减少10\n",
    "     #   board.motor_movement([board.M1], board.CCW, duty)    # 电机1反转（逆时针），设置占空比\n",
    "      #  board.motor_movement([board.M2], board.CW, duty)   # 电机2正转（顺时针），设置占空比\n",
    "     #   time.sleep(0.5)                                       # 等待1秒\n",
    "     #   speed = board.get_encoder_speed(board.ALL)         # 获取所有编码器的转速\n",
    "     #   print(\"duty: %d, M1 encoder speed: %d rpm, M2 encoder speed %d rpm\" % (duty, speed[0], speed[1]))  # 打印转速信息\n",
    "   "
   ]
  },
  {
   "cell_type": "code",
   "execution_count": 14,
   "id": "66da2309-cc13-4103-8058-1ff04eb96890",
   "metadata": {},
   "outputs": [],
   "source": [
    "board.motor_stop(board.ALL)   # stop all DC motor"
   ]
  },
  {
   "cell_type": "markdown",
   "id": "ec6eb0b1-88a7-4ee8-9c05-9df7378323c8",
   "metadata": {},
   "source": [
    "### 反馈系统 - 显示图片"
   ]
  },
  {
   "cell_type": "code",
   "execution_count": 11,
   "id": "c5ae33f7-10e1-4246-8e9a-5b55b93799aa",
   "metadata": {},
   "outputs": [],
   "source": [
    "# 初始化代码，仅能执行一次\n",
    "\n",
    "from lib import LCD_1inch28\n",
    "from PIL import Image\n",
    "\n",
    "disp = LCD_1inch28.LCD_1inch28()\n",
    "disp.Init() # 点亮屏幕\n",
    "\n",
    "# Clear display.\n",
    "disp.clear()\n",
    "#Set the backlight to 50\n",
    "disp.bl_DutyCycle(50)"
   ]
  },
  {
   "cell_type": "code",
   "execution_count": 12,
   "id": "835487ee-01db-45c6-b5ce-598b7c3687dc",
   "metadata": {},
   "outputs": [],
   "source": [
    "# 读取并打开图像文件\n",
    "image = Image.open('media/test_lcd.jpg')\n",
    "image = image.rotate(270)\n",
    "\n",
    "# 显示图像\n",
    "disp.ShowImage(image) # 显示图像"
   ]
  },
  {
   "cell_type": "markdown",
   "id": "4250dc3e-4d00-44ac-88d1-3379837dab2a",
   "metadata": {},
   "source": [
    "### 反馈系统 - 显示GIF表情"
   ]
  },
  {
   "cell_type": "code",
   "execution_count": 13,
   "id": "1b10c732-10b6-412e-a1c6-cf4c384aa18e",
   "metadata": {},
   "outputs": [],
   "source": [
    "# 读取并打开图像文件\n",
    "gif = Image.open('media/test_blink.gif')\n",
    "\n",
    "# 循环显示 3 次\n",
    "for i in range(3):\n",
    "    for i in range(gif.n_frames):\n",
    "        gif.seek(i)\n",
    "        image = gif.convert(\"RGB\")\n",
    "        image = image.rotate(270)\n",
    "        image = image.resize((240, 240))\n",
    "        disp.ShowImage(image) # 显示图像"
   ]
  },
  {
   "cell_type": "markdown",
   "id": "d9096b25-a938-4536-9be6-cb90416c2ec5",
   "metadata": {},
   "source": [
    "# 感知系统"
   ]
  },
  {
   "cell_type": "markdown",
   "id": "1e9aa3b3-8171-4558-a49f-5176b7b0dbdf",
   "metadata": {},
   "source": [
    "### 感知系统 - 听觉（麦克风）"
   ]
  },
  {
   "cell_type": "code",
   "execution_count": 14,
   "id": "27665980-0fcd-45eb-9d04-6189d5e4ae4c",
   "metadata": {},
   "outputs": [],
   "source": [
    "# 初始化代码，仅需执行一次\n",
    "\n",
    "# 📦 导入库\n",
    "from scipy.io.wavfile import write\n",
    "import numpy as np"
   ]
  },
  {
   "cell_type": "code",
   "execution_count": 15,
   "id": "c5faf3b1-468a-4ea6-9ebe-3cddc8213d82",
   "metadata": {},
   "outputs": [
    {
     "name": "stdout",
     "output_type": "stream",
     "text": [
      "* 开始录音\n",
      "* 录音结束\n"
     ]
    }
   ],
   "source": [
    "fs = 44100 # 采样频率\n",
    "seconds = 5 # 录音时长，单位：秒\n",
    "\n",
    "print(\"* 开始录音\")\n",
    "myrecording = sd.rec(int(seconds * fs), samplerate=fs, channels=1) # 录制音频\n",
    "sd.wait() # 等待录音完成\n",
    "print(\"* 录音结束\")\n",
    "\n",
    "# 将浮点格式转换为整数格式\n",
    "myrecording = np.int16(myrecording / np.max(np.abs(myrecording)) * 32767)\n",
    "\n",
    "# 保存音频文件\n",
    "write(\"media/test_mic.wav\", fs, myrecording)"
   ]
  },
  {
   "cell_type": "code",
   "execution_count": 16,
   "id": "512cca05-51c6-4056-bf7d-902aee2e40e4",
   "metadata": {},
   "outputs": [],
   "source": [
    "# 播放录制音频文件\n",
    "\n",
    "# 设置音量\n",
    "m = alsaaudio.Mixer('PCM')\n",
    "# 设置音量为 50%\n",
    "m.setvolume(50)\n",
    "\n",
    "# 播放测试音频\n",
    "# 加载并播放音频文件\n",
    "wave_obj = sa.WaveObject.from_wave_file(\"media/test_mic.wav\")\n",
    "play_obj = wave_obj.play()\n",
    "play_obj.wait_done()"
   ]
  },
  {
   "cell_type": "markdown",
   "id": "7701fb50-859f-4e4c-81e8-3faeda018b98",
   "metadata": {},
   "source": [
    "### 感知系统 - 超声波测距"
   ]
  },
  {
   "cell_type": "code",
   "execution_count": 17,
   "id": "4a6b1c80-ba03-4c66-a9b0-765b1f425cda",
   "metadata": {},
   "outputs": [
    {
     "name": "stderr",
     "output_type": "stream",
     "text": [
      "/usr/lib/python3/dist-packages/gpiozero/input_devices.py:852: PWMSoftwareFallback: For more accurate readings, use the pigpio pin factory.See https://gpiozero.readthedocs.io/en/stable/api_input.html#distancesensor-hc-sr04 for more info\n",
      "  warnings.warn(PWMSoftwareFallback(\n",
      "/usr/lib/python3/dist-packages/gpiozero/input_devices.py:975: DistanceSensorNoEcho: no echo received\n",
      "  warnings.warn(DistanceSensorNoEcho('no echo received'))\n"
     ]
    }
   ],
   "source": [
    "# 初始化代码，仅能执行一次\n",
    "\n",
    "# 导入库\n",
    "from gpiozero import DistanceSensor\n",
    "from time import sleep\n",
    "\n",
    "# 注意配置引脚\n",
    "sensor = DistanceSensor(echo=6, trigger=26)"
   ]
  },
  {
   "cell_type": "code",
   "execution_count": 20,
   "id": "b7c022e3-bfd1-40f1-b906-23885f498e81",
   "metadata": {},
   "outputs": [
    {
     "name": "stdout",
     "output_type": "stream",
     "text": [
      "Distance: 100.0 cm\n"
     ]
    }
   ],
   "source": [
    "print('Distance: %.1f cm' % (sensor.distance * 100))  # 返回的是 m，需要乘100变成 cm"
   ]
  },
  {
   "cell_type": "markdown",
   "id": "d47c314d-a4e0-4ed9-9843-9b7c474fb5ea",
   "metadata": {},
   "source": [
    "### 感知系统 - 视觉"
   ]
  },
  {
   "cell_type": "code",
   "execution_count": null,
   "id": "6e577a4a-8902-492d-b592-93a968ba1246",
   "metadata": {},
   "outputs": [],
   "source": [
    "# 📦 导入库\n",
    "import cv2\n",
    "from PIL import Image\n",
    "\n",
    "# 初始化摄像头\n",
    "cap = cv2.VideoCapture(0)\n",
    "if not cap.isOpened():\n",
    "    print(\"❌ 摄像头无法打开\")\n",
    "else:\n",
    "    for _ in range(5):  # 先热身几帧\n",
    "        cap.read()\n",
    "\n",
    "    ret, frame = cap.read()\n",
    "    cap.release()\n",
    "\n",
    "    if ret:\n",
    "        frame_rgb = cv2.cvtColor(frame, cv2.COLOR_BGR2RGB)\n",
    "        # image = Image.fromarray(frame_rgb)\n",
    "        # image = image.resize((320, 240))  # 缩放为 320x240\n",
    "        # disp.ShowImage(image)  # 显示图像\n",
    "        cv2.imwrite(\"media/test_camera.jpg\", frame)\n",
    "        print(\"✅ 拍照成功，图片保存为 test_camera.jpg\")\n",
    "    else:\n",
    "        print(\"❌ 拍照失败\")"
   ]
  },
  {
   "cell_type": "code",
   "execution_count": null,
   "id": "b2e53c1d-c118-4570-a0c2-6d5caf975643",
   "metadata": {},
   "outputs": [],
   "source": [
    "from IPython.display import Image as displayImage, display\n",
    "display(displayImage(filename=\"media/test_camera.jpg\", width=480))"
   ]
  },
  {
   "cell_type": "code",
   "execution_count": 4,
   "id": "50b7c97f-a4b7-41da-b8d4-6aed6342d469",
   "metadata": {},
   "outputs": [
    {
     "ename": "NameError",
     "evalue": "name 'disp' is not defined",
     "output_type": "error",
     "traceback": [
      "\u001b[31m---------------------------------------------------------------------------\u001b[39m",
      "\u001b[31mNameError\u001b[39m                                 Traceback (most recent call last)",
      "\u001b[36mCell\u001b[39m\u001b[36m \u001b[39m\u001b[32mIn[4]\u001b[39m\u001b[32m, line 6\u001b[39m\n\u001b[32m      4\u001b[39m image = Image.open(\u001b[33m\"\u001b[39m\u001b[33mmedia/test_camera.jpg\u001b[39m\u001b[33m\"\u001b[39m).rotate(\u001b[32m270\u001b[39m)\n\u001b[32m      5\u001b[39m image = ImageOps.fit(image, (\u001b[32m240\u001b[39m, \u001b[32m240\u001b[39m), method=Image.LANCZOS, centering=(\u001b[32m0.5\u001b[39m, \u001b[32m0.5\u001b[39m))\n\u001b[32m----> \u001b[39m\u001b[32m6\u001b[39m \u001b[43mdisp\u001b[49m.ShowImage(image)  \u001b[38;5;66;03m# 显示图像\u001b[39;00m\n",
      "\u001b[31mNameError\u001b[39m: name 'disp' is not defined"
     ]
    }
   ],
   "source": [
    "# 读取并打开图像文件\n",
    "from PIL import Image, ImageOps\n",
    "\n",
    "image = Image.open(\"media/test_camera.jpg\").rotate(270)\n",
    "image = ImageOps.fit(image, (240, 240), method=Image.LANCZOS, centering=(0.5, 0.5))\n",
    "disp.ShowImage(image)  # 显示图像"
   ]
  },
  {
   "cell_type": "markdown",
   "id": "11478b50-2e7f-4620-905a-fa4010db497b",
   "metadata": {},
   "source": [
    "### 感知系统 - 雷达"
   ]
  },
  {
   "cell_type": "code",
   "execution_count": 62,
   "id": "546c9207-16a1-41a8-a89a-1504bb7175d5",
   "metadata": {},
   "outputs": [
    {
     "ename": "GPIOPinInUse",
     "evalue": "pin GPIO13 is already in use by <gpiozero.PWMOutputDevice object on pin GPIO13, active_high=True, is_active=True>",
     "output_type": "error",
     "traceback": [
      "\u001b[31m---------------------------------------------------------------------------\u001b[39m",
      "\u001b[31mGPIOPinInUse\u001b[39m                              Traceback (most recent call last)",
      "\u001b[36mCell\u001b[39m\u001b[36m \u001b[39m\u001b[32mIn[62]\u001b[39m\u001b[32m, line 4\u001b[39m\n\u001b[32m      1\u001b[39m \u001b[38;5;28;01mfrom\u001b[39;00m \u001b[34;01mgpiozero\u001b[39;00m \u001b[38;5;28;01mimport\u001b[39;00m PWMOutputDevice\n\u001b[32m      3\u001b[39m \u001b[38;5;66;03m# 电机速度控制（接 PWMA，即 GPIO13），仅能初始化一次\u001b[39;00m\n\u001b[32m----> \u001b[39m\u001b[32m4\u001b[39m pwm = \u001b[43mPWMOutputDevice\u001b[49m\u001b[43m(\u001b[49m\u001b[32;43m13\u001b[39;49m\u001b[43m)\u001b[49m\n",
      "\u001b[36mFile \u001b[39m\u001b[32m/usr/lib/python3/dist-packages/gpiozero/devices.py:108\u001b[39m, in \u001b[36mGPIOMeta.__call__\u001b[39m\u001b[34m(cls, *args, **kwargs)\u001b[39m\n\u001b[32m    105\u001b[39m         \u001b[38;5;28mcls\u001b[39m._instances[key] = weakref.ref(\u001b[38;5;28mself\u001b[39m)\n\u001b[32m    106\u001b[39m \u001b[38;5;28;01melse\u001b[39;00m:\n\u001b[32m    107\u001b[39m     \u001b[38;5;66;03m# Construct the instance as normal\u001b[39;00m\n\u001b[32m--> \u001b[39m\u001b[32m108\u001b[39m     \u001b[38;5;28mself\u001b[39m = \u001b[38;5;28;43msuper\u001b[39;49m\u001b[43m(\u001b[49m\u001b[43m)\u001b[49m\u001b[43m.\u001b[49m\u001b[34;43m__call__\u001b[39;49m\u001b[43m(\u001b[49m\u001b[43m*\u001b[49m\u001b[43margs\u001b[49m\u001b[43m,\u001b[49m\u001b[43m \u001b[49m\u001b[43m*\u001b[49m\u001b[43m*\u001b[49m\u001b[43mkwargs\u001b[49m\u001b[43m)\u001b[49m\n\u001b[32m    109\u001b[39m \u001b[38;5;66;03m# At this point __new__ and __init__ have all been run. We now fix the\u001b[39;00m\n\u001b[32m    110\u001b[39m \u001b[38;5;66;03m# set of attributes on the class by dir'ing the instance and creating a\u001b[39;00m\n\u001b[32m    111\u001b[39m \u001b[38;5;66;03m# frozenset of the result called __attrs__ (which is queried by\u001b[39;00m\n\u001b[32m    112\u001b[39m \u001b[38;5;66;03m# GPIOBase.__setattr__). An exception is made for SharedMixin devices\u001b[39;00m\n\u001b[32m    113\u001b[39m \u001b[38;5;66;03m# which can be constructed multiple times, returning the same instance\u001b[39;00m\n\u001b[32m    114\u001b[39m \u001b[38;5;28;01mif\u001b[39;00m \u001b[38;5;129;01mnot\u001b[39;00m \u001b[38;5;28missubclass\u001b[39m(\u001b[38;5;28mcls\u001b[39m, SharedMixin) \u001b[38;5;129;01mor\u001b[39;00m \u001b[38;5;28mself\u001b[39m._refs == \u001b[32m1\u001b[39m:\n",
      "\u001b[36mFile \u001b[39m\u001b[32m/usr/lib/python3/dist-packages/gpiozero/output_devices.py:392\u001b[39m, in \u001b[36mPWMOutputDevice.__init__\u001b[39m\u001b[34m(self, pin, active_high, initial_value, frequency, pin_factory)\u001b[39m\n\u001b[32m    390\u001b[39m \u001b[38;5;28;01mif\u001b[39;00m \u001b[38;5;129;01mnot\u001b[39;00m \u001b[32m0\u001b[39m <= initial_value <= \u001b[32m1\u001b[39m:\n\u001b[32m    391\u001b[39m     \u001b[38;5;28;01mraise\u001b[39;00m OutputDeviceBadValue(\u001b[33m\"\u001b[39m\u001b[33minitial_value must be between 0 and 1\u001b[39m\u001b[33m\"\u001b[39m)\n\u001b[32m--> \u001b[39m\u001b[32m392\u001b[39m \u001b[38;5;28;43msuper\u001b[39;49m\u001b[43m(\u001b[49m\u001b[43m)\u001b[49m\u001b[43m.\u001b[49m\u001b[34;43m__init__\u001b[39;49m\u001b[43m(\u001b[49m\u001b[43mpin\u001b[49m\u001b[43m,\u001b[49m\u001b[43m \u001b[49m\u001b[43mactive_high\u001b[49m\u001b[43m=\u001b[49m\u001b[43mactive_high\u001b[49m\u001b[43m,\u001b[49m\u001b[43m \u001b[49m\u001b[43minitial_value\u001b[49m\u001b[43m=\u001b[49m\u001b[38;5;28;43;01mNone\u001b[39;49;00m\u001b[43m,\u001b[49m\n\u001b[32m    393\u001b[39m \u001b[43m                 \u001b[49m\u001b[43mpin_factory\u001b[49m\u001b[43m=\u001b[49m\u001b[43mpin_factory\u001b[49m\u001b[43m)\u001b[49m\n\u001b[32m    394\u001b[39m \u001b[38;5;28;01mtry\u001b[39;00m:\n\u001b[32m    395\u001b[39m     \u001b[38;5;66;03m# XXX need a way of setting these together\u001b[39;00m\n\u001b[32m    396\u001b[39m     \u001b[38;5;28mself\u001b[39m.pin.frequency = frequency\n",
      "\u001b[36mFile \u001b[39m\u001b[32m/usr/lib/python3/dist-packages/gpiozero/output_devices.py:74\u001b[39m, in \u001b[36mOutputDevice.__init__\u001b[39m\u001b[34m(self, pin, active_high, initial_value, pin_factory)\u001b[39m\n\u001b[32m     72\u001b[39m \u001b[38;5;28;01mdef\u001b[39;00m \u001b[34m__init__\u001b[39m(\u001b[38;5;28mself\u001b[39m, pin=\u001b[38;5;28;01mNone\u001b[39;00m, *, active_high=\u001b[38;5;28;01mTrue\u001b[39;00m, initial_value=\u001b[38;5;28;01mFalse\u001b[39;00m,\n\u001b[32m     73\u001b[39m              pin_factory=\u001b[38;5;28;01mNone\u001b[39;00m):\n\u001b[32m---> \u001b[39m\u001b[32m74\u001b[39m     \u001b[38;5;28;43msuper\u001b[39;49m\u001b[43m(\u001b[49m\u001b[43m)\u001b[49m\u001b[43m.\u001b[49m\u001b[34;43m__init__\u001b[39;49m\u001b[43m(\u001b[49m\u001b[43mpin\u001b[49m\u001b[43m,\u001b[49m\u001b[43m \u001b[49m\u001b[43mpin_factory\u001b[49m\u001b[43m=\u001b[49m\u001b[43mpin_factory\u001b[49m\u001b[43m)\u001b[49m\n\u001b[32m     75\u001b[39m     \u001b[38;5;28mself\u001b[39m._lock = Lock()\n\u001b[32m     76\u001b[39m     \u001b[38;5;28mself\u001b[39m.active_high = active_high\n",
      "\u001b[36mFile \u001b[39m\u001b[32m/usr/lib/python3/dist-packages/gpiozero/mixins.py:75\u001b[39m, in \u001b[36mSourceMixin.__init__\u001b[39m\u001b[34m(self, *args, **kwargs)\u001b[39m\n\u001b[32m     73\u001b[39m \u001b[38;5;28mself\u001b[39m._source_thread = \u001b[38;5;28;01mNone\u001b[39;00m\n\u001b[32m     74\u001b[39m \u001b[38;5;28mself\u001b[39m._source_delay = \u001b[32m0.01\u001b[39m\n\u001b[32m---> \u001b[39m\u001b[32m75\u001b[39m \u001b[38;5;28;43msuper\u001b[39;49m\u001b[43m(\u001b[49m\u001b[43m)\u001b[49m\u001b[43m.\u001b[49m\u001b[34;43m__init__\u001b[39;49m\u001b[43m(\u001b[49m\u001b[43m*\u001b[49m\u001b[43margs\u001b[49m\u001b[43m,\u001b[49m\u001b[43m \u001b[49m\u001b[43m*\u001b[49m\u001b[43m*\u001b[49m\u001b[43mkwargs\u001b[49m\u001b[43m)\u001b[49m\n",
      "\u001b[36mFile \u001b[39m\u001b[32m/usr/lib/python3/dist-packages/gpiozero/devices.py:552\u001b[39m, in \u001b[36mGPIODevice.__init__\u001b[39m\u001b[34m(self, pin, pin_factory)\u001b[39m\n\u001b[32m    550\u001b[39m     \u001b[38;5;28;01mraise\u001b[39;00m GPIOPinMissing(\u001b[33m'\u001b[39m\u001b[33mNo pin given\u001b[39m\u001b[33m'\u001b[39m)\n\u001b[32m    551\u001b[39m \u001b[38;5;66;03m# Check you can reserve *before* constructing the pin\u001b[39;00m\n\u001b[32m--> \u001b[39m\u001b[32m552\u001b[39m \u001b[38;5;28;43mself\u001b[39;49m\u001b[43m.\u001b[49m\u001b[43mpin_factory\u001b[49m\u001b[43m.\u001b[49m\u001b[43mreserve_pins\u001b[49m\u001b[43m(\u001b[49m\u001b[38;5;28;43mself\u001b[39;49m\u001b[43m,\u001b[49m\u001b[43m \u001b[49m\u001b[43mpin\u001b[49m\u001b[43m)\u001b[49m\n\u001b[32m    553\u001b[39m pin = \u001b[38;5;28mself\u001b[39m.pin_factory.pin(pin)\n\u001b[32m    554\u001b[39m \u001b[38;5;28mself\u001b[39m._pin = pin\n",
      "\u001b[36mFile \u001b[39m\u001b[32m/usr/lib/python3/dist-packages/gpiozero/pins/__init__.py:88\u001b[39m, in \u001b[36mFactory.reserve_pins\u001b[39m\u001b[34m(self, requester, *names)\u001b[39m\n\u001b[32m     86\u001b[39m     reserver = reserver_ref()\n\u001b[32m     87\u001b[39m     \u001b[38;5;28;01mif\u001b[39;00m reserver \u001b[38;5;129;01mis\u001b[39;00m \u001b[38;5;129;01mnot\u001b[39;00m \u001b[38;5;28;01mNone\u001b[39;00m \u001b[38;5;129;01mand\u001b[39;00m requester._conflicts_with(reserver):\n\u001b[32m---> \u001b[39m\u001b[32m88\u001b[39m         \u001b[38;5;28;01mraise\u001b[39;00m GPIOPinInUse(\n\u001b[32m     89\u001b[39m             \u001b[33mf\u001b[39m\u001b[33m'\u001b[39m\u001b[33mpin \u001b[39m\u001b[38;5;132;01m{\u001b[39;00mpin.name\u001b[38;5;132;01m}\u001b[39;00m\u001b[33m is already in use by \u001b[39m\u001b[38;5;132;01m{\u001b[39;00mreserver\u001b[38;5;132;01m!r}\u001b[39;00m\u001b[33m'\u001b[39m)\n\u001b[32m     90\u001b[39m \u001b[38;5;28mself\u001b[39m._reservations[pin].append(ref(requester))\n",
      "\u001b[31mGPIOPinInUse\u001b[39m: pin GPIO13 is already in use by <gpiozero.PWMOutputDevice object on pin GPIO13, active_high=True, is_active=True>"
     ]
    }
   ],
   "source": [
    "from gpiozero import PWMOutputDevice\n",
    "\n",
    "# 电机速度控制（接 PWMA，即 GPIO13），仅能初始化一次\n",
    "pwm = PWMOutputDevice(13)"
   ]
  },
  {
   "cell_type": "code",
   "execution_count": 63,
   "id": "73a239f6-4de9-494b-87cc-165db948a94b",
   "metadata": {},
   "outputs": [
    {
     "data": {
      "text/plain": [
       "'\\n# 慢慢加速\\nfor speed in [0.2, 0.4, 0.6, 0.8, 1.0]:\\n    pwm.value = speed\\n    print(f\"当前速度：{speed}\")\\n    sleep(1)\\n\\npwm.value = 0.1'"
      ]
     },
     "execution_count": 63,
     "metadata": {},
     "output_type": "execute_result"
    }
   ],
   "source": [
    "# 停止\n",
    "pwm.off()\n",
    "'''\n",
    "# 慢慢加速\n",
    "for speed in [0.2, 0.4, 0.6, 0.8, 1.0]:\n",
    "    pwm.value = speed\n",
    "    print(f\"当前速度：{speed}\")\n",
    "    sleep(1)\n",
    "\n",
    "pwm.value = 0.1'''"
   ]
  },
  {
   "cell_type": "code",
   "execution_count": 36,
   "id": "f3efaed3-5bb1-4739-99a1-6e529a3f0b73",
   "metadata": {},
   "outputs": [
    {
     "name": "stdout",
     "output_type": "stream",
     "text": [
      "Interrupted by user\n",
      "signal_handler(2)\n",
      "[2025-07-25 15:43:32][info] Now lidar scanning has stopped!\n"
     ]
    }
   ],
   "source": [
    "import ydlidar\n",
    "import numpy as np\n",
    "import matplotlib.pyplot as plt\n",
    "from IPython.display import clear_output\n",
    "\n",
    "# 初始化 Lidar\n",
    "ydlidar.os_init()\n",
    "laser = ydlidar.CYdLidar()\n",
    "laser.setlidaropt(ydlidar.LidarPropSerialPort, \"/dev/ttyAMA2\")\n",
    "laser.setlidaropt(ydlidar.LidarPropSerialBaudrate, 115200)\n",
    "laser.setlidaropt(ydlidar.LidarPropLidarType, ydlidar.TYPE_TRIANGLE)\n",
    "laser.setlidaropt(ydlidar.LidarPropDeviceType, ydlidar.YDLIDAR_TYPE_SERIAL)\n",
    "laser.setlidaropt(ydlidar.LidarPropScanFrequency, 4.0)\n",
    "laser.setlidaropt(ydlidar.LidarPropSampleRate, 3)\n",
    "laser.setlidaropt(ydlidar.LidarPropSingleChannel, True)\n",
    "\n",
    "ret = laser.initialize()\n",
    "if ret:\n",
    "    ret = laser.turnOn()\n",
    "    scan = ydlidar.LaserScan()\n",
    "\n",
    "    try:\n",
    "        while ret and ydlidar.os_isOk():\n",
    "            r = laser.doProcessSimple(scan)\n",
    "            if r:\n",
    "                points = scan.points\n",
    "                angles = np.array([p.angle for p in points])\n",
    "                ranges = np.array([p.range for p in points])\n",
    "\n",
    "                # 原始坐标（未旋转）\n",
    "                xs_orig = ranges * np.cos(angles)\n",
    "                ys_orig = ranges * np.sin(angles)\n",
    "\n",
    "                # 顺时针旋转 90 度后的坐标\n",
    "                xs = ys_orig\n",
    "                ys = -xs_orig\n",
    "\n",
    "                # 清空前一张图\n",
    "                clear_output(wait=True)\n",
    "                plt.figure(figsize=(12, 6))\n",
    "\n",
    "                # # -------- 笛卡尔坐标图 --------\n",
    "                # plt.subplot(1, 2, 1)\n",
    "                # plt.scatter(xs, ys, s=2, c='blue')\n",
    "                # plt.title(\"Cartesian View (Rotated 90°)\")\n",
    "                # plt.xlabel(\"X (m)\")\n",
    "                # plt.ylabel(\"Y (m)\")\n",
    "                # plt.xlim(-12, 12)\n",
    "                # plt.ylim(-12, 12)\n",
    "                # plt.grid(True)\n",
    "                # plt.gca().set_aspect('equal', adjustable='box')\n",
    "\n",
    "                # -------- 极坐标图 --------\n",
    "                ax = plt.subplot(1, 2, 2, projection='polar')\n",
    "                ax.scatter(angles, ranges, s=2, c='red')\n",
    "                ax.set_title(\"Polar View (Raw Lidar Data)\")\n",
    "                ax.set_theta_zero_location('S')  # 正前方朝上\n",
    "                ax.set_theta_direction(-1)       # 顺时针为正方向\n",
    "\n",
    "                ax.set_rmax(12)\n",
    "                ax.grid(True)\n",
    "\n",
    "                plt.suptitle(f\"YDLidar Scan at {scan.stamp}\")\n",
    "                plt.tight_layout()\n",
    "                plt.show()\n",
    "\n",
    "            else:\n",
    "                print(\"Failed to get Lidar Data\")\n",
    "\n",
    "            time.sleep(0.05)\n",
    "\n",
    "    except KeyboardInterrupt:\n",
    "        print(\"Interrupted by user\")\n",
    "\n",
    "    finally:\n",
    "        laser.turnOff()\n",
    "        laser.disconnecting()\n"
   ]
  },
  {
   "cell_type": "markdown",
   "id": "1858e0f2-4e56-4f0a-9ca0-72d863d68a41",
   "metadata": {},
   "source": [
    "### 其它 - 温度"
   ]
  },
  {
   "cell_type": "code",
   "execution_count": 49,
   "id": "32f4b42f-b32d-461e-996c-6bb409a2e5ae",
   "metadata": {},
   "outputs": [
    {
     "name": "stdout",
     "output_type": "stream",
     "text": [
      "CPU 温度: 53.45 °C\n"
     ]
    }
   ],
   "source": [
    "def get_cpu_temp():\n",
    "    with open(\"/sys/class/thermal/thermal_zone0/temp\", \"r\") as f:\n",
    "        temp_str = f.readline()\n",
    "    return float(temp_str) / 1000  # 单位是°C\n",
    "\n",
    "print(f\"CPU 温度: {get_cpu_temp():.2f} °C\")"
   ]
  },
  {
   "cell_type": "markdown",
   "id": "674373f3-7e56-40da-9689-9d7b4ced2ba8",
   "metadata": {},
   "source": [
    "### 其它 - 电量"
   ]
  },
  {
   "cell_type": "code",
   "execution_count": 39,
   "id": "4014d9be-d243-49e7-8668-43164f2d6b53",
   "metadata": {},
   "outputs": [],
   "source": [
    "from lib import INA219\n",
    "ina219 = INA219.INA219(addr=0x42)"
   ]
  },
  {
   "cell_type": "code",
   "execution_count": 48,
   "id": "48d291ca-72c4-49e7-898a-889f0f71dee4",
   "metadata": {},
   "outputs": [
    {
     "name": "stdout",
     "output_type": "stream",
     "text": [
      "Load Voltage:   8.156 V\n",
      "Current:       -0.089900 A\n",
      "Power:          0.586 W\n",
      "Percent:       89.8%\n"
     ]
    }
   ],
   "source": [
    "bus_voltage = ina219.getBusVoltage_V()             # 获取负载侧的总线电压（V-端的电压）\n",
    "shunt_voltage = ina219.getShuntVoltage_mV() / 1000 # 获取分流电阻两端电压（V+ 与 V- 之间），单位换算为伏特\n",
    "current = ina219.getCurrent_mA()                   # 获取通过分流电阻的电流，单位为毫安（mA）\n",
    "power = ina219.getPower_W()                        # 获取功率，单位为瓦特（W）\n",
    "\n",
    "# 将电压映射为一个百分比，通常用于电量或亮度等显示（6V 映射为 0%，8.4V 映射为 100%）\n",
    "p = (bus_voltage - 6)/2.4*100\n",
    "if(p > 100): p = 100                               # 超过100%则限制为100%\n",
    "if(p < 0): p = 0                                   # 小于0%则限制为0%\n",
    "\n",
    "# INA219 测量的是负载端（V-）的电压，因此电源电压 = bus_voltage + shunt_voltage\n",
    "# print(\"PSU Voltage:   {:6.3f} V\".format(bus_voltage + shunt_voltage)) # 如需显示电源端电压可取消注释\n",
    "# print(\"Shunt Voltage: {:9.6f} V\".format(shunt_voltage))              # 如需显示分流电压可取消注释\n",
    "\n",
    "print(\"Load Voltage:  {:6.3f} V\".format(bus_voltage))           # 打印负载电压\n",
    "print(\"Current:       {:9.6f} A\".format(current/1000))          # 打印电流（单位换算为安培）\n",
    "print(\"Power:         {:6.3f} W\".format(power))                 # 打印功率\n",
    "print(\"Percent:       {:3.1f}%\".format(p))                      # 打印映射后的百分比数值\n"
   ]
  },
  {
   "cell_type": "markdown",
   "id": "7dc04db7-9705-4616-9d49-e58004528f60",
   "metadata": {},
   "source": [
    "## 🎉 恭喜你完成了的所有测试步骤！"
   ]
  },
  {
   "cell_type": "markdown",
   "id": "bc09e715",
   "metadata": {},
   "source": [
    "下一步你可以尝试：\n",
    "- 添加语音识别模块\n",
    "- 使用图像识别进行互动反馈\n",
    "- ...\n",
    "\n",
    "继续探索吧！💡"
   ]
  },
  {
   "cell_type": "code",
   "execution_count": 46,
   "id": "562c0985-efa0-464a-951a-0c8f27759f46",
   "metadata": {},
   "outputs": [
    {
     "name": "stdout",
     "output_type": "stream",
     "text": [
      "这张图片展示了一个**现代化开放式办公室**的场景：  \n",
      "\n",
      "- **人员与活动**：画面中有多位员工在工位上使用电脑（可见苹果笔记本）专注工作，着装偏向日常办公风格（如白衬衫、粉色上衣等），呈现出忙碌的工作氛围。  \n",
      "- **空间与环境**：办公室天花板设计简洁现代，装有嵌入式照明灯、通风口，还有带圆形镂空的装饰板；光线充足（顶部大灯与环境光结合），空间开阔。背景中可见墙面嵌入的大屏幕显示器，进一步强化了办公空间的科技感与协作属性。  \n",
      "\n",
      "整体环境明亮、规整，传递出**高效、开放**的现代办公气息。\n"
     ]
    }
   ],
   "source": [
    "import os\n",
    "import base64\n",
    "\n",
    "from openai import OpenAI\n",
    "\n",
    "# 读取本地图片文件\n",
    "with open(\"media/test_camera.jpg\", \"rb\") as f:\n",
    "    image_data = f.read()\n",
    "    encoded_image = base64.b64encode(image_data).decode(\"utf-8\")\n",
    "\n",
    "# 构造 data URL\n",
    "data_url = f\"data:image/jpeg;base64,{encoded_image}\"\n",
    "\n",
    "client = OpenAI(\n",
    "    base_url=\"https://ark.cn-beijing.volces.com/api/v3\",\n",
    "    api_key=\"64876db3-dd82-4f63-8718-2b12eaca3f28\",\n",
    ")\n",
    "response = client.chat.completions.create(\n",
    "    model=\"doubao-1-5-thinking-vision-pro-250428\",\n",
    "    messages=[\n",
    "        {\n",
    "            \"role\": \"user\",\n",
    "            \"content\": [\n",
    "                {\n",
    "                    \"type\": \"image_url\",\n",
    "                    \"image_url\": {\n",
    "                        \"url\": data_url\n",
    "                    },\n",
    "                },\n",
    "                {\"type\": \"text\", \"text\": \"描述一下\"},\n",
    "            ],\n",
    "        }\n",
    "    ],\n",
    ")\n",
    "print(response.choices[0].message.content)"
   ]
  },
  {
   "cell_type": "code",
   "execution_count": null,
   "id": "506dde50-a2e7-4503-a274-f8c015c3a67a",
   "metadata": {},
   "outputs": [],
   "source": []
  }
 ],
 "metadata": {
  "kernelspec": {
   "display_name": "Python 3 (ipykernel)",
   "language": "python",
   "name": "python3"
  },
  "language_info": {
   "codemirror_mode": {
    "name": "ipython",
    "version": 3
   },
   "file_extension": ".py",
   "mimetype": "text/x-python",
   "name": "python",
   "nbconvert_exporter": "python",
   "pygments_lexer": "ipython3",
   "version": "3.11.2"
  }
 },
 "nbformat": 4,
 "nbformat_minor": 5
}
