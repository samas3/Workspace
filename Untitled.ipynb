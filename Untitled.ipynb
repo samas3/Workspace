{
 "cells": [
  {
   "cell_type": "code",
   "execution_count": 15,
   "id": "4a1846a7-1b41-41a8-9c93-3d30fe96852e",
   "metadata": {},
   "outputs": [
    {
     "name": "stdout",
     "output_type": "stream",
     "text": [
      "board begin success\n",
      "实时距离: 80.1 cmm\n",
      "测量已停止\n"
     ]
    }
   ],
   "source": [
    "import os\n",
    "import time\n",
    "import alsaaudio\n",
    "import sounddevice as sd\n",
    "import simpleaudio as sa\n",
    "\n",
    "from time import sleep\n",
    "\n",
    "# 配置音频\n",
    "# 设置 ALSA_CARD 为第一个 USB 输出设备的索引（如存在）\n",
    "# 查找包含 'usb' 的音频输出设备\n",
    "dev = next((d for d in sd.query_devices() if d['max_output_channels'] > 0 and 'usb' in d['name'].lower()), None)\n",
    "# 设置 ALSA_CARD 环境变量以使用 USB 设备\n",
    "if dev: os.environ['ALSA_CARD'] = str(dev['index'])\n",
    "from lib.DFRobot_RaspberryPi_DC_Motor import DFRobot_DC_Motor_IIC as Board\n",
    "board = Board(1, 0x10)    # RaspberryPi select bus 1, set address to 0x10\n",
    "if board.begin() != board.STA_OK:    # 初始化开发板并检查状态是否正常\n",
    "    print(\"board begin faild\")       # 如果初始化失败，打印失败信息\n",
    "else:\n",
    "    print(\"board begin success\")     # 初始化成功，打印成功信息\n",
    "\n",
    "    board.set_encoder_enable(board.ALL)                 # 启用所有电机的编码器\n",
    "    # board.set_encoder_disable(board.ALL)              # （可选）禁用所有电机的编码器\n",
    "    board.set_encoder_reduction_ratio(board.ALL, 43)    # 设置所有电机的编码器减速比（测试电机减速比为43.8）\n",
    "\n",
    "    board.set_moter_pwm_frequency(1000)   # 设置电机的PWM频率为1000Hz\n",
    "# 导入库\n",
    "from gpiozero import DistanceSensor\n",
    "# 注意配置引脚\n",
    "sensor = DistanceSensor(echo=6, trigger=26)\n",
    "try:\n",
    "    while True:\n",
    "        distance_cm = sensor.distance * 100\n",
    "        board.motor_movement([board.M1], board.CW, 100)\n",
    "        board.motor_movement([board.M2], board.CCW, 100)\n",
    "        if distance_cm < 10:\n",
    "            # 紧急停止并等待障碍物离开\n",
    "            board.motor_movement([board.M1], board.CCW, 100)\n",
    "            board.motor_movement([board.M2], board.CW, 100)\n",
    "            time.sleep(0.5)\n",
    "            board.motor_movement([board.M1], board.STOP, 0) \n",
    "            board.motor_movement([board.M2], board.CW, 50)\n",
    "            time.sleep(0.5)\n",
    "            \n",
    "        print(f\"当前距离: {distance_cm:.1f}cm\", end='\\r')\n",
    "        time.sleep(0.05)  # 20Hz采样率\n",
    "\n",
    "except KeyboardInterrupt:\n",
    "    board.motor_stop(board.ALL)\n",
    "    sensor.close()\n",
    "    print(\"\\n程序安全退出\")\n",
    "\n",
    "# try:\n",
    "#     while True:\n",
    "#         distance_cm = sensor.distance * 100  # 转为厘米\n",
    "#         print(f\"实时距离: {distance_cm:.1f} cm\", end='\\r')  # 动态刷新显示\n",
    "#         board.motor_movement([board.M1], board.CW, 100)    # 电机1正转（顺时针），占空比为100\n",
    "#         board.motor_movement([board.M2], board.CCW, 100)   # 电机2反转（逆时针），占空比为100\n",
    "#         if distance_cm < 10:\n",
    "#             board.motor_stop(board.ALL)   # stop all DC motor    \n",
    "#         time.sleep(0.1)  # 控制采样频率（0.1秒/次）\n",
    "# except KeyboardInterrupt:\n",
    "#     sensor.close()\n",
    "#     print(\"\\n测量已停止\")\n",
    "\n",
    "#     for i in range(20):   # 从高占空比到低，占空比每次减少10\n",
    "#         board.motor_movement([board.M1], board.CCW, 100)    # 电机1反转（逆时针），占空比为100\n",
    "#         board.motor_movement([board.M2], board.CW, 100)   # 电机2正转（顺时针），占空比为100\n",
    "#     time.sleep(5)                                       # 等待5秒\n",
    "# board.motor_stop(board.ALL)   # stop all DC motor\n",
    "    \n",
    "#     for i in range(10):   \n",
    "#         board.motor_movement([board.M1], board.CW, 100) # 电机1正转（顺时针），设置占空比\n",
    "#         board.motor_movement([board.M2], board.STOP, 0) \n",
    "#         time.sleep(0.5)                                       # 等待1秒\n",
    "#     for i in range(20):   \n",
    "#         board.motor_movement([board.M1], board.CW, 100)    # 电机1正转（顺时针），设置占空比\n",
    "#         board.motor_movement([board.M2], board.CCW, 100)   # 电机2反转（逆时针），设置占空比\n",
    "#         time.sleep(1)                                       # 等待1秒\n",
    "        \n",
    "#     for i in range(10):  \n",
    "#         board.motor_movement([board.M1], board.STOP, 0) \n",
    "#         board.motor_movement([board.M2], board.CW, 50)   # 电机2反转（逆时针），设置占空比\n",
    "#         time.sleep(0.5)                                       # 等待1秒\n",
    "#     for i in range(20):   \n",
    "#         board.motor_movement([board.M1], board.CW, 100)    # 电机1正转（顺时针），设置占空比\n",
    "#         board.motor_movement([board.M2], board.CCW, 100)   # 电机2反转（逆时针），设置占空比\n"
   ]
  },
  {
   "cell_type": "code",
   "execution_count": 17,
   "id": "76867cf1-9f07-4527-a80e-12faf4b78c3d",
   "metadata": {},
   "outputs": [],
   "source": [
    "board.motor_stop(board.ALL)   # stop all DC motor"
   ]
  },
  {
   "cell_type": "code",
   "execution_count": 5,
   "id": "34c79f32-ca1e-4953-8d24-61e16a73e0b1",
   "metadata": {},
   "outputs": [
    {
     "ename": "ModuleNotFoundError",
     "evalue": "No module named 'ultralytics'",
     "output_type": "error",
     "traceback": [
      "\u001b[31m---------------------------------------------------------------------------\u001b[39m",
      "\u001b[31mModuleNotFoundError\u001b[39m                       Traceback (most recent call last)",
      "\u001b[36mCell\u001b[39m\u001b[36m \u001b[39m\u001b[32mIn[5]\u001b[39m\u001b[32m, line 1\u001b[39m\n\u001b[32m----> \u001b[39m\u001b[32m1\u001b[39m \u001b[38;5;28;01mfrom\u001b[39;00m \u001b[34;01multralytics\u001b[39;00m \u001b[38;5;28;01mimport\u001b[39;00m YOLO\n\u001b[32m      2\u001b[39m \u001b[38;5;28;01mimport\u001b[39;00m \u001b[34;01mcv2\u001b[39;00m\n\u001b[32m      4\u001b[39m \u001b[38;5;66;03m# 加载模型\u001b[39;00m\n",
      "\u001b[31mModuleNotFoundError\u001b[39m: No module named 'ultralytics'"
     ]
    }
   ],
   "source": [
    "from ultralytics import YOLO\n",
    "import cv2\n",
    "\n",
    "# 加载模型\n",
    "model = YOLO('yolov8n.pt')\n",
    "\n",
    "# 加载图像并进行检测\n",
    "results = model('/Users/rym/Desktop/截屏2025-07-25 17.27.55.png', conf = 0.4)\n",
    "\n",
    "# results[0] 代表第一张图片的结果\n",
    "# .plot() 方法会自动绘制所有检测框和标签\n",
    "annotated_frame = results[0].plot()\n",
    "\n",
    "# 显示结果\n",
    "cv2.imshow(\"YOLOv8 Detection (Auto Plot)\", annotated_frame)\n",
    "cv2.waitKey(0)\n",
    "cv2.destroyAllWindows()"
   ]
  },
  {
   "cell_type": "code",
   "execution_count": null,
   "id": "84eb1ac0-4d2d-4de0-8609-9c24f312597a",
   "metadata": {},
   "outputs": [],
   "source": []
  }
 ],
 "metadata": {
  "kernelspec": {
   "display_name": "Python 3 (ipykernel)",
   "language": "python",
   "name": "python3"
  },
  "language_info": {
   "codemirror_mode": {
    "name": "ipython",
    "version": 3
   },
   "file_extension": ".py",
   "mimetype": "text/x-python",
   "name": "python",
   "nbconvert_exporter": "python",
   "pygments_lexer": "ipython3",
   "version": "3.11.2"
  }
 },
 "nbformat": 4,
 "nbformat_minor": 5
}
